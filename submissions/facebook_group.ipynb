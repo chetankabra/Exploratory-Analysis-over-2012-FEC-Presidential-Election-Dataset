{
 "metadata": {
  "name": "",
  "signature": "sha256:78f41ceeac9d299a359f771c8dc76527e11e2f919d6b0e60894b262bc5476ceb"
 },
 "nbformat": 3,
 "nbformat_minor": 0,
 "worksheets": [
  {
   "cells": [
    {
     "cell_type": "code",
     "collapsed": false,
     "input": [
      "from bs4 import BeautifulSoup\n",
      "import pandas\n",
      "\n",
      "soup = BeautifulSoup(open(\"E:\\\\Spring_2015\\\\Data_Mining\\\\groups.html\"))\n",
      "\n",
      "def scraping_facebook_groups(soup):\n",
      "    groupList=[]\n",
      "    divs = soup.find_all(\"div\",{\"class\":\"mbs fwb\"})\n",
      "    \n",
      "    print len(divs)\n",
      "    for a in range(len(divs)):\n",
      "        tag = divs[a].find_all(\"a\")\n",
      "        for g in tag:\n",
      "            #print g.string\n",
      "            groupList.append(g.string)\n",
      "    df = pandas.DataFrame(data=groupList, columns=[\"Groups\"])\n",
      "    print df\n",
      "    return None\n",
      "scraping_facebook_groups(soup)"
     ],
     "language": "python",
     "metadata": {},
     "outputs": [
      {
       "output_type": "stream",
       "stream": "stdout",
       "text": [
        "13\n",
        "                                               Groups\n",
        "0     University of Texas,Arlington -Spring/fall-2015\n",
        "1                                Earn Daily Cash !!!!\n",
        "2                                MS in US Spring 2015\n",
        "3                                            MS in US\n",
        "4                         K.C. College Of Engineering\n",
        "5        Navjeevan Vidya Mandir Majji Vidyarthi Sangh\n",
        "6                                       Malvani khaja\n",
        "7                     !!!!!!  Friends Forever !!!!!!!\n",
        "8                                       Job Fair 2012\n",
        "9   I Support the Jan Lokpal Bill:Anti-corruption ...\n",
        "10                                   Khirade compound\n",
        "11                                         MY ASSESTS\n",
        "12                                    friends forever\n"
       ]
      }
     ],
     "prompt_number": 49
    },
    {
     "cell_type": "code",
     "collapsed": false,
     "input": [],
     "language": "python",
     "metadata": {},
     "outputs": [],
     "prompt_number": 7
    },
    {
     "cell_type": "code",
     "collapsed": false,
     "input": [],
     "language": "python",
     "metadata": {},
     "outputs": [],
     "prompt_number": 7
    },
    {
     "cell_type": "code",
     "collapsed": false,
     "input": [],
     "language": "python",
     "metadata": {},
     "outputs": []
    }
   ],
   "metadata": {}
  }
 ]
}