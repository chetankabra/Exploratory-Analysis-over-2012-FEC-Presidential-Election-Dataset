{
 "metadata": {
  "name": "",
  "signature": "sha256:16f300c72998847971b0522931946e324069ec571fe68a6d73befb3f477ee8d9"
 },
 "nbformat": 3,
 "nbformat_minor": 0,
 "worksheets": [
  {
   "cells": [
    {
     "cell_type": "code",
     "collapsed": false,
     "input": [
      "\n",
      "from bs4 import BeautifulSoup\n",
      "\n",
      "#def helperFunction(path):\n",
      "soup = BeautifulSoup(open(\"E:\\\\Spring_2015\\\\Data_Mining\\\\test.html\"))\n",
      "\n",
      "def scraping_facebook_books(dom):\n",
      "    booklist = []\n",
      "    #l = soup.findAll(\"a\")\n",
      "    l = soup.findAll(\"a\", { \"class\" : \"_gx7\" })\n",
      "    print len(l)\n",
      "    for a in l:    \n",
      "        booklist.append(a.string)\n",
      "    print len(booklist)\n",
      " #   for i in range(len(booklist)):\n",
      "#        print booklist[i]\n",
      "    return booklist\n",
      "\n",
      "li = scraping_facebook_books(soup)\n",
      "for a in range(len(li)):\n",
      "    print li[a]\n"
     ],
     "language": "python",
     "metadata": {},
     "outputs": [
      {
       "output_type": "stream",
       "stream": "stdout",
       "text": [
        "14\n",
        "14\n",
        "Gang Leader for a Day: A Rogue Sociologist Takes to the Streets\n",
        "The Better Angels of Our Nature\n",
        "American Lion: Andrew Jackson in the White House\n",
        "The House of Rothschild Volume 1: Money's Prophets: 1798-1848\n",
        "Open: An Autobiography\n",
        "The Information: A History, a Theory, a Flood\n",
        "Surely You're Joking, Mr. Feynman!\n",
        "The Idea Factory: Bell Labs and the Great Age of American Innovation\n",
        "Decoded\n",
        "Einstein: His Life and Universe\n",
        "Physics of the Impossible\n",
        "Ender's Shadow\n",
        "The Giving Tree\n",
        "Ender's Game\n"
       ]
      }
     ],
     "prompt_number": 4
    },
    {
     "cell_type": "code",
     "collapsed": false,
     "input": [],
     "language": "python",
     "metadata": {},
     "outputs": []
    }
   ],
   "metadata": {}
  }
 ]
}